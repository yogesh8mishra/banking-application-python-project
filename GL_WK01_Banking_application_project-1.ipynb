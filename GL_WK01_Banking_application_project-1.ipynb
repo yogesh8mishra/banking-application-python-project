{
 "cells": [
  {
   "cell_type": "markdown",
   "id": "d0c024ee",
   "metadata": {},
   "source": [
    "<img src=\"http://drive.google.com/uc?export=view&id=1JzM1Jig5KAOCvU4tIf2t66B3gd1uy1rG\" width=500px>\n",
    "\n",
    "Proprietary content. Â© Great Learning. All Rights Reserved. Unauthorized use or distribution prohibited."
   ]
  },
  {
   "cell_type": "markdown",
   "id": "b4d76878",
   "metadata": {},
   "source": [
    "### <font color=\"blue\">Implement a Simple banking Application that has the following features:</font>\n",
    "\n",
    "1. Creating a new account\n",
    "2. Depositing money to an account\n",
    "3. Withdrawing money from an account.  \n",
    "Also, handle the case where we have insufficient funds during withdrawal.\n"
   ]
  },
  {
   "cell_type": "code",
   "execution_count": 1,
   "id": "b10afac3",
   "metadata": {},
   "outputs": [],
   "source": [
    "# Accounts used as global variables with stores the account numbers with the respective amount in them\n",
    "# Pair in dcitionary : <account_number, amount>\n",
    "ACCOUNTS = dict()"
   ]
  },
  {
   "cell_type": "code",
   "execution_count": 2,
   "id": "318b1a5f",
   "metadata": {},
   "outputs": [],
   "source": [
    "# These variables enumerate the available options in banking application\n",
    "NEW_ACCOUNT = 1\n",
    "DEPOSIT = 2\n",
    "WITHDRAW = 3\n",
    "SHOW_BALANCE = 4\n",
    "QUIT = 5"
   ]
  },
  {
   "cell_type": "code",
   "execution_count": 3,
   "id": "a4ed2e8e",
   "metadata": {},
   "outputs": [],
   "source": [
    "# write your code to create a new account\n",
    "\n",
    "\n",
    "def create_new_account(acc_no):\n",
    "    x=ACCOUNTS.update({acc_no:1000})\n",
    "    print(f\"New account created {acc_no}\" ,\"and intial balance is 1000\")\n",
    "    return x\n",
    "    \n",
    "    "
   ]
  },
  {
   "cell_type": "code",
   "execution_count": 4,
   "id": "f68a2aa7",
   "metadata": {},
   "outputs": [
    {
     "name": "stdout",
     "output_type": "stream",
     "text": [
      "New account created 1111 and intial balance is 1000\n",
      "New account created 2222 and intial balance is 1000\n"
     ]
    }
   ],
   "source": [
    "create_new_account(1111)\n",
    "create_new_account(2222)"
   ]
  },
  {
   "cell_type": "code",
   "execution_count": 5,
   "id": "2144449c",
   "metadata": {},
   "outputs": [
    {
     "data": {
      "text/plain": [
       "{1111: 1000, 2222: 1000}"
      ]
     },
     "execution_count": 5,
     "metadata": {},
     "output_type": "execute_result"
    }
   ],
   "source": [
    "ACCOUNTS"
   ]
  },
  {
   "cell_type": "code",
   "execution_count": 7,
   "id": "f3d277f9",
   "metadata": {},
   "outputs": [],
   "source": [
    "# Write your code to deposit money and while doing so please ensure that the account is a valid account\n",
    "    \n",
    "\n",
    "    \n",
    "def deposit(acc_no, amount):\n",
    "    try: \n",
    "        if acc_no in ACCOUNTS.keys():\n",
    "            print(\"account number = \", acc_no)\n",
    "            print(\"deposit amount = \",amount)\n",
    "            ACCOUNTS[acc_no]=ACCOUNTS[acc_no]+amount\n",
    "            print(\"final balance = \",ACCOUNTS[acc_no])\n",
    "            return ACCOUNTS[acc_no]\n",
    "        else :\n",
    "            print(\"account is not found\")\n",
    "    except:\n",
    "        pass    \n",
    "    "
   ]
  },
  {
   "cell_type": "code",
   "execution_count": 8,
   "id": "c28ce56c",
   "metadata": {},
   "outputs": [
    {
     "name": "stdout",
     "output_type": "stream",
     "text": [
      "account number =  1111\n",
      "deposit amount =  50000\n",
      "final balance =  51000\n",
      "account is not found\n"
     ]
    }
   ],
   "source": [
    "deposit(1111,50000)\n",
    "deposit(3333,20000)"
   ]
  },
  {
   "cell_type": "code",
   "execution_count": 9,
   "id": "5fb9090e",
   "metadata": {},
   "outputs": [],
   "source": [
    "# Write your code to withdraw money and while doing so please ensure that the account has sufficient amount \n",
    "# and the account is a valid account\n",
    "\n",
    "\n",
    "def withdraw(acc_no, amount): \n",
    "    try: \n",
    "        if acc_no in ACCOUNTS.keys():\n",
    "            if ACCOUNTS[acc_no] >= amount:\n",
    "                print(\"account number = \",acc_no)\n",
    "                print(\"withdrawn amount = \",amount)\n",
    "                ACCOUNTS[acc_no]=ACCOUNTS[acc_no]-amount\n",
    "                print(\"final balance = \",ACCOUNTS[acc_no])\n",
    "            else:\n",
    "                print(\"* not sufficient balance * \")\n",
    "        else:\n",
    "            print(\" no account found \")\n",
    "\n",
    "    except:\n",
    "        pass\n",
    "\n"
   ]
  },
  {
   "cell_type": "code",
   "execution_count": 10,
   "id": "22998ab4",
   "metadata": {},
   "outputs": [
    {
     "name": "stdout",
     "output_type": "stream",
     "text": [
      "account number =  1111\n",
      "withdrawn amount =  6000\n",
      "final balance =  45000\n"
     ]
    }
   ],
   "source": [
    "withdraw(1111,6000)"
   ]
  },
  {
   "cell_type": "code",
   "execution_count": 11,
   "id": "0223d2d2",
   "metadata": {},
   "outputs": [],
   "source": [
    "# Write your code to show balance\n",
    "\n",
    "def show_balance(acc_no):\n",
    "    print(\"account number = \",acc_no)\n",
    "    print(\"balance = \",ACCOUNTS[acc_no])\n",
    "    return ACCOUNTS[acc_no] "
   ]
  },
  {
   "cell_type": "code",
   "execution_count": 12,
   "id": "99035fa0",
   "metadata": {},
   "outputs": [
    {
     "name": "stdout",
     "output_type": "stream",
     "text": [
      "account number =  1111\n",
      "balance =  45000\n",
      "account number =  2222\n",
      "balance =  1000\n"
     ]
    },
    {
     "data": {
      "text/plain": [
       "1000"
      ]
     },
     "execution_count": 12,
     "metadata": {},
     "output_type": "execute_result"
    }
   ],
   "source": [
    "show_balance(1111)\n",
    "show_balance(2222)\n"
   ]
  },
  {
   "cell_type": "code",
   "execution_count": 13,
   "id": "b9c85210",
   "metadata": {},
   "outputs": [],
   "source": [
    "def show_menu():\n",
    "    print(\"\\n1. New Account Opening\")\n",
    "    print(\"2. Deposit money to account\")\n",
    "    print(\"3. Withdraw money from account\")\n",
    "    print(\"4. Show balance\")\n",
    "    print(\"5. Quit\")"
   ]
  },
  {
   "cell_type": "markdown",
   "id": "04c64537",
   "metadata": {},
   "source": [
    "#### Driver Code for running baning Application"
   ]
  },
  {
   "cell_type": "code",
   "execution_count": null,
   "id": "ced6f7d4",
   "metadata": {},
   "outputs": [],
   "source": [
    "if __name__ == \"__main__\":\n",
    "    while(True):\n",
    "        show_menu()\n",
    "        \n",
    "        choice = int(input('\\nEnter the operation to be performed : '))\n",
    "        \n",
    "        \n",
    "        if choice == NEW_ACCOUNT:\n",
    "            acc_number = input('\\nEnter account number for new account opening : ')\n",
    "            \n",
    "            create_new_account(acc_number)\n",
    "            \n",
    "        elif choice == DEPOSIT:\n",
    "            acc_number = input('\\nEnter the accout number for depositing money : ')\n",
    "            amount = int(input('Enter amount for depositing money : '))\n",
    "            \n",
    "            deposit(acc_number, amount)\n",
    "            \n",
    "        elif choice == WITHDRAW:\n",
    "            acc_number = input('\\nEnter the accout number for withdrawing money : ')\n",
    "            amount = int(input('Enter amount for withdrawing money : '))\n",
    "            \n",
    "            withdraw(acc_number, amount)\n",
    "            \n",
    "            \n",
    "        elif choice == SHOW_BALANCE:\n",
    "            acc_number = input('\\nEnter the accout number for showing account balance : ')\n",
    "            \n",
    "            show_balance(acc_number)\n",
    "            \n",
    "        elif choice == QUIT:\n",
    "            print(\"\\nThanks for banking with us\")\n",
    "            break"
   ]
  },
  {
   "cell_type": "code",
   "execution_count": null,
   "id": "bdb3c829",
   "metadata": {},
   "outputs": [],
   "source": []
  }
 ],
 "metadata": {
  "kernelspec": {
   "display_name": "Python 3",
   "language": "python",
   "name": "python3"
  },
  "language_info": {
   "codemirror_mode": {
    "name": "ipython",
    "version": 3
   },
   "file_extension": ".py",
   "mimetype": "text/x-python",
   "name": "python",
   "nbconvert_exporter": "python",
   "pygments_lexer": "ipython3",
   "version": "3.6.8"
  }
 },
 "nbformat": 4,
 "nbformat_minor": 5
}
